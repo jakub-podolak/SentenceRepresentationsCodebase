{
 "cells": [
  {
   "cell_type": "markdown",
   "id": "8ac81893-fd8f-43b1-9cea-53398745cab4",
   "metadata": {},
   "source": [
    "# Demo Notebook"
   ]
  },
  {
   "cell_type": "code",
   "execution_count": 1,
   "id": "f93f249b-c224-4e7c-8ba2-44d559198892",
   "metadata": {},
   "outputs": [],
   "source": [
    "%load_ext autoreload\n",
    "%autoreload 2"
   ]
  },
  {
   "cell_type": "code",
   "execution_count": 2,
   "id": "50672cd4-9046-47ef-b5ff-dc838b7a3663",
   "metadata": {},
   "outputs": [
    {
     "name": "stderr",
     "output_type": "stream",
     "text": [
      "/home/technet/miniconda3/envs/technet/lib/python3.11/site-packages/tqdm/auto.py:21: TqdmWarning: IProgress not found. Please update jupyter and ipywidgets. See https://ipywidgets.readthedocs.io/en/stable/user_install.html\n",
      "  from .autonotebook import tqdm as notebook_tqdm\n",
      "[nltk_data] Downloading package punkt to /home/technet/nltk_data...\n",
      "[nltk_data]   Package punkt is already up-to-date!\n"
     ]
    }
   ],
   "source": [
    "from __future__ import absolute_import, division, unicode_literals\n",
    "\n",
    "import sys\n",
    "import numpy as np\n",
    "import logging\n",
    "import sklearn\n",
    "import torch\n",
    "\n",
    "from encoders.word_embeddings_mean import WordEmbeddingsMeanEncoder\n",
    "from encoders.lstm.unidirectional_lstm import UnidirectionalLSTMEncoder\n",
    "from encoders.lstm.bidirectional_lstm import BidirectionalLSTMEncoder\n",
    "from utils.word_embeddings import create_dictionary, get_wordvec, get_word_embeddings\n",
    "from utils.snli_data import check_and_load_or_save, preprocess_text"
   ]
  },
  {
   "cell_type": "code",
   "execution_count": 3,
   "id": "73e6c684-334e-4e93-8103-1d10442f54d1",
   "metadata": {},
   "outputs": [],
   "source": [
    "PATH_TO_VEC = 'pretrained/glove.840B.300d.txt'"
   ]
  },
  {
   "cell_type": "code",
   "execution_count": 4,
   "id": "7a1b008e-35c9-4a78-a3f9-f1b592efec2f",
   "metadata": {},
   "outputs": [],
   "source": [
    "import pickle"
   ]
  },
  {
   "cell_type": "markdown",
   "id": "3407db48-8b3e-4b6e-a1b1-a25a4339476a",
   "metadata": {},
   "source": [
    "# 1. Read 4 models and get word2vec"
   ]
  },
  {
   "cell_type": "code",
   "execution_count": 5,
   "id": "cc422e71-e1ea-4e19-b19a-be9e217928ef",
   "metadata": {},
   "outputs": [],
   "source": [
    "model_paths = {\n",
    "    'word_mean': \"runs/exp_20240418_162806_mean_embeddings_2048/model_9_checkpoint.pickle\",\n",
    "    'lstm': \"runs/exp_20240418_145108_lstm_2048/model_9_checkpoint.pickle\",\n",
    "    'bilstm': \"runs/exp_20240418_171206_bilstm_2048/model_7_checkpoint.pickle\",\n",
    "    'bilstm_max': \"runs/exp_20240418_184433_bilstm_max_2048/model_6_checkpoint.pickle\",\n",
    "}"
   ]
  },
  {
   "cell_type": "code",
   "execution_count": 6,
   "id": "f2f70b4b-3976-4f2c-b45f-ccef72090ca2",
   "metadata": {},
   "outputs": [],
   "source": [
    "models = {}"
   ]
  },
  {
   "cell_type": "code",
   "execution_count": 7,
   "id": "4cdaa94f-b712-49cb-909f-0e9c775eead7",
   "metadata": {},
   "outputs": [],
   "source": [
    "for model_name, path in model_paths.items():\n",
    "    with open(path, 'rb') as f:\n",
    "        model = torch.load(f, map_location=torch.device('cpu'))\n",
    "\n",
    "    models[model_name] = model"
   ]
  },
  {
   "cell_type": "code",
   "execution_count": 8,
   "id": "9b1f2ad2-39c5-4aff-952a-cdbb1bf1e00c",
   "metadata": {},
   "outputs": [
    {
     "data": {
      "text/plain": [
       "{'word_mean': SNLIClassifier(\n",
       "   (encoder): WordEmbeddingsMeanEncoder()\n",
       "   (fn1): Linear(in_features=1200, out_features=512, bias=True)\n",
       "   (fn2): Linear(in_features=512, out_features=512, bias=True)\n",
       "   (fn3): Linear(in_features=512, out_features=3, bias=True)\n",
       " ),\n",
       " 'lstm': SNLIClassifier(\n",
       "   (encoder): UnidirectionalLSTMEncoder(\n",
       "     (lstm): LSTM(300, 2048, batch_first=True)\n",
       "   )\n",
       "   (fn1): Linear(in_features=8192, out_features=512, bias=True)\n",
       "   (fn2): Linear(in_features=512, out_features=512, bias=True)\n",
       "   (fn3): Linear(in_features=512, out_features=3, bias=True)\n",
       " ),\n",
       " 'bilstm': SNLIClassifier(\n",
       "   (encoder): BidirectionalLSTMEncoder(\n",
       "     (lstm): LSTM(300, 2048, bidirectional=True)\n",
       "   )\n",
       "   (fn1): Linear(in_features=16384, out_features=512, bias=True)\n",
       "   (fn2): Linear(in_features=512, out_features=512, bias=True)\n",
       "   (fn3): Linear(in_features=512, out_features=3, bias=True)\n",
       " ),\n",
       " 'bilstm_max': SNLIClassifier(\n",
       "   (encoder): BidirectionalLSTMEncoder(\n",
       "     (lstm): LSTM(300, 2048, bidirectional=True)\n",
       "   )\n",
       "   (fn1): Linear(in_features=16384, out_features=512, bias=True)\n",
       "   (fn2): Linear(in_features=512, out_features=512, bias=True)\n",
       "   (fn3): Linear(in_features=512, out_features=3, bias=True)\n",
       " )}"
      ]
     },
     "execution_count": 8,
     "metadata": {},
     "output_type": "execute_result"
    }
   ],
   "source": [
    "models"
   ]
  },
  {
   "cell_type": "code",
   "execution_count": 9,
   "id": "7484ca5e-6966-4e9e-9ffd-b14a704dc520",
   "metadata": {},
   "outputs": [],
   "source": [
    "# Get word2vec\n",
    "train = check_and_load_or_save('train')\n",
    "valid = check_and_load_or_save('validation')\n",
    "test = check_and_load_or_save('test')\n",
    "\n",
    "all_sentences = list(train['sentence1']) + list(train['sentence2']) +\\\n",
    "                list(valid['sentence1']) + list(valid['sentence2']) +\\\n",
    "                list(test['sentence1']) + list(test['sentence2'])\n",
    "\n",
    "# Align vocabulary\n",
    "_, word2id = create_dictionary(all_sentences)\n",
    "word2vec = get_wordvec(PATH_TO_VEC, word2id)"
   ]
  },
  {
   "cell_type": "markdown",
   "id": "82ad2316-22d0-43d7-9ab2-f3863e3c21ac",
   "metadata": {},
   "source": [
    "# 2. Infer the models"
   ]
  },
  {
   "cell_type": "code",
   "execution_count": 10,
   "id": "8928ad42-8923-4a57-bdaa-bc4bef851570",
   "metadata": {},
   "outputs": [],
   "source": [
    "def infer_one_sample(model, premise, hypothesis):\n",
    "    premise_tok = preprocess_text(premise)\n",
    "    hypothesis_tok = preprocess_text(hypothesis)\n",
    "\n",
    "    premise_torch = (torch.Tensor(np.array([get_word_embeddings(word2vec, premise_tok)])), [len(premise_tok)])\n",
    "    hypothesis_torch = (torch.Tensor(np.array([get_word_embeddings(word2vec, hypothesis_tok)])), [len(hypothesis_tok)])\n",
    "\n",
    "    logits = model.forward(premise_torch, hypothesis_torch)\n",
    "    probabilities = torch.softmax(logits, -1)\n",
    "    prediction = torch.argmax(logits).item()\n",
    "\n",
    "    label_map = {\n",
    "        0: 'entailment',\n",
    "        1: 'neutral',\n",
    "        2: 'contradiction'\n",
    "    }\n",
    "    return list(probabilities.detach().numpy()[0]), label_map[prediction]"
   ]
  },
  {
   "cell_type": "code",
   "execution_count": 18,
   "id": "c449cf70-657a-4c0f-bf6f-d60ef4253b5f",
   "metadata": {},
   "outputs": [
    {
     "data": {
      "text/plain": [
       "([0.023055643, 0.3956095, 0.5813348], 'contradiction')"
      ]
     },
     "execution_count": 18,
     "metadata": {},
     "output_type": "execute_result"
    }
   ],
   "source": [
    "infer_one_sample(models['word_mean'], 'Man is eating a sandwich in the park', 'Man is reading a book')"
   ]
  },
  {
   "cell_type": "code",
   "execution_count": 22,
   "id": "bf063d86-7798-46c8-9c00-c6791e2f34a2",
   "metadata": {},
   "outputs": [],
   "source": [
    "def infer_all_models(premise, hypothesis):\n",
    "    result = {}\n",
    "    for model in models.keys():\n",
    "        result[model] = infer_one_sample(models[model], premise, hypothesis)\n",
    "    return result"
   ]
  },
  {
   "cell_type": "code",
   "execution_count": 23,
   "id": "fe6456db-d66a-48ca-8dd6-28ca0f4b939c",
   "metadata": {},
   "outputs": [
    {
     "data": {
      "text/plain": [
       "{'word_mean': ([0.023055643, 0.3956095, 0.5813348], 'contradiction'),\n",
       " 'lstm': ([0.011156958, 0.13168061, 0.8571624], 'contradiction'),\n",
       " 'bilstm': ([0.00020725105, 0.006338245, 0.9934546], 'contradiction'),\n",
       " 'bilstm_max': ([1.0176414e-07, 9.8397606e-05, 0.99990153], 'contradiction')}"
      ]
     },
     "execution_count": 23,
     "metadata": {},
     "output_type": "execute_result"
    }
   ],
   "source": [
    "infer_all_models('Man is eating a sandwich in the park', 'Man is reading a book')"
   ]
  },
  {
   "cell_type": "markdown",
   "id": "728d3e71-7665-4d21-b3dd-0fca80dd9549",
   "metadata": {},
   "source": [
    "# 3. Error Analysis"
   ]
  },
  {
   "cell_type": "markdown",
   "id": "bb9f0391-5813-4cb7-b1a8-afd03ec9c163",
   "metadata": {},
   "source": [
    "```\n",
    "Premise - “Two men sitting in the sun”\n",
    "Hypothesis - “Nobody is sitting in the shade”\n",
    "Label - Neutral (likely predicts contradiction)\n",
    "\n",
    "Premise - “A man is walking a dog”\n",
    "Hypothesis - “No cat is outside”\n",
    "Label - Neutral (likely predicts contradiction)\n",
    "```\n",
    "Can you think of a possible reason why the model would fail in such cases?"
   ]
  },
  {
   "cell_type": "code",
   "execution_count": 24,
   "id": "a3524e4c-28d2-40a6-879f-385ba9cb1dd6",
   "metadata": {},
   "outputs": [
    {
     "data": {
      "text/plain": [
       "{'word_mean': ([0.03053329, 0.11450356, 0.8549632], 'contradiction'),\n",
       " 'lstm': ([0.026673684, 0.042974908, 0.9303514], 'contradiction'),\n",
       " 'bilstm': ([6.738626e-06, 6.264182e-05, 0.9999306], 'contradiction'),\n",
       " 'bilstm_max': ([1.926938e-07, 7.1777176e-05, 0.999928], 'contradiction')}"
      ]
     },
     "execution_count": 24,
     "metadata": {},
     "output_type": "execute_result"
    }
   ],
   "source": [
    "infer_all_models('Two men sitting in the sun', 'Nobody is sitting in the shade')"
   ]
  },
  {
   "cell_type": "code",
   "execution_count": 25,
   "id": "804e90b7-9a46-41f8-8ed8-44b4e7d27b21",
   "metadata": {},
   "outputs": [
    {
     "data": {
      "text/plain": [
       "{'word_mean': ([0.010695878, 0.002042266, 0.98726183], 'contradiction'),\n",
       " 'lstm': ([3.6138215e-05, 0.00019624927, 0.9997676], 'contradiction'),\n",
       " 'bilstm': ([1.2980183e-07, 0.0001886283, 0.99981123], 'contradiction'),\n",
       " 'bilstm_max': ([2.5464145e-12, 1.1662495e-08, 1.0], 'contradiction')}"
      ]
     },
     "execution_count": 25,
     "metadata": {},
     "output_type": "execute_result"
    }
   ],
   "source": [
    "infer_all_models('A man is walking a dog', 'No cat is outside')"
   ]
  },
  {
   "cell_type": "code",
   "execution_count": 30,
   "id": "a7dd24e5-3153-440d-9cba-ef21b6b3506e",
   "metadata": {},
   "outputs": [
    {
     "data": {
      "text/plain": [
       "{'word_mean': ([0.04507692, 0.38261545, 0.57230765], 'contradiction'),\n",
       " 'lstm': ([0.00014721137, 0.05157209, 0.94828075], 'contradiction'),\n",
       " 'bilstm': ([4.082773e-06, 0.0044974606, 0.99549854], 'contradiction'),\n",
       " 'bilstm_max': ([5.953556e-10, 0.00016672764, 0.9998332], 'contradiction')}"
      ]
     },
     "execution_count": 30,
     "metadata": {},
     "output_type": "execute_result"
    }
   ],
   "source": [
    "infer_all_models('A man is walking a dog', 'A woman is in the park') # All of them are wrong"
   ]
  },
  {
   "cell_type": "code",
   "execution_count": 35,
   "id": "28783520-e52a-452e-b1be-d8404cbe9ab3",
   "metadata": {},
   "outputs": [
    {
     "data": {
      "text/plain": [
       "{'word_mean': ([0.018409774, 0.7107579, 0.27083236], 'neutral'),\n",
       " 'lstm': ([0.0027956907, 0.7963909, 0.20081346], 'neutral'),\n",
       " 'bilstm': ([0.0034117987, 0.87175035, 0.12483776], 'neutral'),\n",
       " 'bilstm_max': ([6.9189315e-07, 0.16198319, 0.8380161], 'contradiction')}"
      ]
     },
     "execution_count": 35,
     "metadata": {},
     "output_type": "execute_result"
    }
   ],
   "source": [
    "infer_all_models('A man is walking a dog', 'A priest is in the park') # More are correct"
   ]
  },
  {
   "cell_type": "code",
   "execution_count": 31,
   "id": "79b83291-964f-46cb-9e59-f50bbbd59997",
   "metadata": {},
   "outputs": [
    {
     "data": {
      "text/plain": [
       "{'word_mean': ([0.77577835, 0.10899025, 0.11523131], 'entailment'),\n",
       " 'lstm': ([0.0013807209, 0.008810549, 0.9898087], 'contradiction'),\n",
       " 'bilstm': ([1.6555672e-05, 0.0003328938, 0.9996506], 'contradiction'),\n",
       " 'bilstm_max': ([6.8913764e-10, 2.8412676e-06, 0.99999714], 'contradiction')}"
      ]
     },
     "execution_count": 31,
     "metadata": {},
     "output_type": "execute_result"
    }
   ],
   "source": [
    "infer_all_models('A man is walking a dog', 'A woman is walking a dog') # Only wordmean is wrong"
   ]
  },
  {
   "cell_type": "code",
   "execution_count": 32,
   "id": "7c3092ef-1053-4b79-a997-1d9f87ab80e0",
   "metadata": {},
   "outputs": [
    {
     "data": {
      "text/plain": [
       "{'word_mean': ([0.35800305, 0.142009, 0.49998796], 'contradiction'),\n",
       " 'lstm': ([0.0029365458, 0.028069228, 0.9689942], 'contradiction'),\n",
       " 'bilstm': ([4.6427413e-06, 0.0005357696, 0.99945956], 'contradiction'),\n",
       " 'bilstm_max': ([5.06737e-07, 0.00033902953, 0.9996605], 'contradiction')}"
      ]
     },
     "execution_count": 32,
     "metadata": {},
     "output_type": "execute_result"
    }
   ],
   "source": [
    "infer_all_models('A man is walking a dog', 'A woman is walking') # All of them are wrong"
   ]
  },
  {
   "cell_type": "code",
   "execution_count": 50,
   "id": "4b99a445-7425-4033-ae2d-b347647eccb6",
   "metadata": {},
   "outputs": [
    {
     "data": {
      "text/plain": [
       "{'word_mean': ([0.02939803, 0.9426449, 0.027957119], 'neutral'),\n",
       " 'lstm': ([0.51986384, 0.22466709, 0.25546902], 'entailment'),\n",
       " 'bilstm': ([0.26923728, 0.28195828, 0.44880447], 'contradiction'),\n",
       " 'bilstm_max': ([0.58331126, 0.40902793, 0.007660786], 'entailment')}"
      ]
     },
     "execution_count": 50,
     "metadata": {},
     "output_type": "execute_result"
    }
   ],
   "source": [
    "infer_all_models('My family wants to buy a bike for my sister', 'My parents will spend money on a gift') # The models behave randomly"
   ]
  },
  {
   "cell_type": "code",
   "execution_count": 49,
   "id": "fe475e92-fb5e-49a0-a674-6c5604a5bc02",
   "metadata": {},
   "outputs": [
    {
     "data": {
      "text/plain": [
       "{'word_mean': ([0.08498787, 0.89756477, 0.017447362], 'neutral'),\n",
       " 'lstm': ([0.7754753, 0.16892886, 0.05559586], 'entailment'),\n",
       " 'bilstm': ([0.58978903, 0.22205001, 0.18816093], 'entailment'),\n",
       " 'bilstm_max': ([0.9195709, 0.07983702, 0.0005921151], 'entailment')}"
      ]
     },
     "execution_count": 49,
     "metadata": {},
     "output_type": "execute_result"
    }
   ],
   "source": [
    "infer_all_models('My family wants to buy a bike for my sisters birthday', 'My parents will spend money on a gift') # The models behave randomly"
   ]
  },
  {
   "cell_type": "code",
   "execution_count": 52,
   "id": "455e3f88-f50c-4955-ac21-cfdc64cd4e51",
   "metadata": {},
   "outputs": [
    {
     "data": {
      "text/plain": [
       "{'word_mean': ([0.07764516, 0.8997866, 0.02256826], 'neutral'),\n",
       " 'lstm': ([0.51014715, 0.24480397, 0.24504882], 'entailment'),\n",
       " 'bilstm': ([0.5663025, 0.14585175, 0.28784576], 'entailment'),\n",
       " 'bilstm_max': ([0.8618197, 0.13807319, 0.0001071088], 'entailment')}"
      ]
     },
     "execution_count": 52,
     "metadata": {},
     "output_type": "execute_result"
    }
   ],
   "source": [
    "infer_all_models('My family dont want to buy anything for my sisters birthday', 'My parents will spend money on a gift') # Should be contradiction"
   ]
  },
  {
   "cell_type": "code",
   "execution_count": 40,
   "id": "2532e3c6-fd13-4887-95c5-7a1bc3d1417b",
   "metadata": {},
   "outputs": [
    {
     "data": {
      "text/plain": [
       "{'word_mean': ([0.0011365338, 0.99360716, 0.0052563264], 'neutral'),\n",
       " 'lstm': ([0.019556528, 0.07358318, 0.9068603], 'contradiction'),\n",
       " 'bilstm': ([0.00017161231, 0.0032375522, 0.99659085], 'contradiction'),\n",
       " 'bilstm_max': ([5.5866956e-10, 1.6317714e-05, 0.99998367], 'contradiction')}"
      ]
     },
     "execution_count": 40,
     "metadata": {},
     "output_type": "execute_result"
    }
   ],
   "source": [
    "infer_all_models('I love paris', 'I hate france') # Neutral"
   ]
  },
  {
   "cell_type": "code",
   "execution_count": 43,
   "id": "7a278401-380b-4279-8cdc-63ccbdf3fa7a",
   "metadata": {},
   "outputs": [
    {
     "data": {
      "text/plain": [
       "{'word_mean': ([0.08336903, 0.6966773, 0.2199537], 'neutral'),\n",
       " 'lstm': ([0.086162046, 0.7196629, 0.19417505], 'neutral'),\n",
       " 'bilstm': ([0.0067749424, 0.3206998, 0.6725253], 'contradiction'),\n",
       " 'bilstm_max': ([1.3852084e-06, 0.039719153, 0.9602795], 'contradiction')}"
      ]
     },
     "execution_count": 43,
     "metadata": {},
     "output_type": "execute_result"
    }
   ],
   "source": [
    "infer_all_models('I love paris', 'I love only small towns') # Neutral"
   ]
  },
  {
   "cell_type": "code",
   "execution_count": 47,
   "id": "ddfe923b-c7ad-433a-b0d7-76a8f906e28c",
   "metadata": {},
   "outputs": [
    {
     "data": {
      "text/plain": [
       "{'word_mean': ([0.038690995, 0.86514705, 0.09616197], 'neutral'),\n",
       " 'lstm': ([0.046770196, 0.3071708, 0.646059], 'contradiction'),\n",
       " 'bilstm': ([0.11255712, 0.49272642, 0.39471638], 'neutral'),\n",
       " 'bilstm_max': ([0.008850306, 0.09404798, 0.8971017], 'contradiction')}"
      ]
     },
     "execution_count": 47,
     "metadata": {},
     "output_type": "execute_result"
    }
   ],
   "source": [
    "infer_all_models('My grandma is sad', '"
   ]
  },
  {
   "cell_type": "code",
   "execution_count": 54,
   "id": "23bede90-f4c5-4a3b-98ab-b171c5d9621a",
   "metadata": {},
   "outputs": [
    {
     "data": {
      "text/plain": [
       "{'word_mean': ([0.00041773522, 0.64379215, 0.3557901], 'neutral'),\n",
       " 'lstm': ([0.006686811, 0.43668097, 0.5566322], 'contradiction'),\n",
       " 'bilstm': ([0.004699665, 0.5166638, 0.4786366], 'neutral'),\n",
       " 'bilstm_max': ([0.00012682509, 0.42931905, 0.5705541], 'contradiction')}"
      ]
     },
     "execution_count": 54,
     "metadata": {},
     "output_type": "execute_result"
    }
   ],
   "source": [
    "infer_all_models('I am going on a movie date', 'I am buying two cinema tickets')"
   ]
  },
  {
   "cell_type": "code",
   "execution_count": 55,
   "id": "82447d53-ed1c-45f4-9fcb-4895f9e0ed03",
   "metadata": {},
   "outputs": [
    {
     "data": {
      "text/plain": [
       "{'word_mean': ([0.0025424368, 0.7511353, 0.2463223], 'neutral'),\n",
       " 'lstm': ([0.019003248, 0.25004435, 0.73095244], 'contradiction'),\n",
       " 'bilstm': ([0.00025300932, 0.019398943, 0.98034805], 'contradiction'),\n",
       " 'bilstm_max': ([0.0011349571, 0.84580195, 0.15306313], 'neutral')}"
      ]
     },
     "execution_count": 55,
     "metadata": {},
     "output_type": "execute_result"
    }
   ],
   "source": [
    "infer_all_models('I am taking my girlfriend to cinema', 'I am buying two cinema tickets')"
   ]
  },
  {
   "cell_type": "code",
   "execution_count": 57,
   "id": "1ae09bea-937f-41b9-8b26-dcadefdfa90e",
   "metadata": {},
   "outputs": [
    {
     "data": {
      "text/plain": [
       "{'word_mean': ([0.019097535, 0.641643, 0.3392595], 'neutral'),\n",
       " 'lstm': ([0.22093424, 0.49208048, 0.28698525], 'neutral'),\n",
       " 'bilstm': ([0.09309655, 0.62963855, 0.2772649], 'neutral'),\n",
       " 'bilstm_max': ([0.07083751, 0.919686, 0.009476442], 'neutral')}"
      ]
     },
     "execution_count": 57,
     "metadata": {},
     "output_type": "execute_result"
    }
   ],
   "source": [
    "infer_all_models('I am taking my girlfriend to cinema', 'I need a cinema ticket')"
   ]
  },
  {
   "cell_type": "code",
   "execution_count": 58,
   "id": "acdd59ce-5b36-448f-b474-587bf9e54bfd",
   "metadata": {},
   "outputs": [
    {
     "data": {
      "text/plain": [
       "{'word_mean': ([0.027409172, 0.8130543, 0.15953659], 'neutral'),\n",
       " 'lstm': ([0.18991871, 0.7525583, 0.05752297], 'neutral'),\n",
       " 'bilstm': ([0.102032915, 0.87470984, 0.023257235], 'neutral'),\n",
       " 'bilstm_max': ([0.0037163459, 0.9957919, 0.0004917366], 'neutral')}"
      ]
     },
     "execution_count": 58,
     "metadata": {},
     "output_type": "execute_result"
    }
   ],
   "source": [
    "infer_all_models('I am going to cinema', 'I need a cinema ticket')"
   ]
  },
  {
   "cell_type": "code",
   "execution_count": 62,
   "id": "cda010c5-9713-4e96-ad9f-412c92fd7299",
   "metadata": {},
   "outputs": [
    {
     "data": {
      "text/plain": [
       "{'word_mean': ([0.004963711, 0.9267899, 0.068246394], 'neutral'),\n",
       " 'lstm': ([0.045607433, 0.76051766, 0.19387487], 'neutral'),\n",
       " 'bilstm': ([0.014085018, 0.7057853, 0.28012976], 'neutral'),\n",
       " 'bilstm_max': ([5.054657e-05, 0.9667839, 0.033165544], 'neutral')}"
      ]
     },
     "execution_count": 62,
     "metadata": {},
     "output_type": "execute_result"
    }
   ],
   "source": [
    "infer_all_models('I am going to cinema', 'I am buying a cinema ticket')"
   ]
  },
  {
   "cell_type": "code",
   "execution_count": 64,
   "id": "01c12b91-d237-4da7-b489-a3cbfd017aa4",
   "metadata": {},
   "outputs": [
    {
     "data": {
      "text/plain": [
       "{'word_mean': ([0.004963711, 0.9267899, 0.068246394], 'neutral'),\n",
       " 'lstm': ([0.045607433, 0.76051766, 0.19387487], 'neutral'),\n",
       " 'bilstm': ([0.014085018, 0.7057853, 0.28012976], 'neutral'),\n",
       " 'bilstm_max': ([5.054657e-05, 0.9667839, 0.033165544], 'neutral')}"
      ]
     },
     "execution_count": 64,
     "metadata": {},
     "output_type": "execute_result"
    }
   ],
   "source": [
    "infer_all_models('I am going to cinema', 'I am buying a cinema ticket')"
   ]
  },
  {
   "cell_type": "code",
   "execution_count": 65,
   "id": "23294919-9184-415a-af38-aa1996147d8b",
   "metadata": {},
   "outputs": [
    {
     "data": {
      "text/plain": [
       "{'word_mean': ([0.039097182, 0.86237335, 0.098529525], 'neutral'),\n",
       " 'lstm': ([0.20357032, 0.72780764, 0.06862202], 'neutral'),\n",
       " 'bilstm': ([0.14418097, 0.8466314, 0.00918759], 'neutral'),\n",
       " 'bilstm_max': ([0.027642695, 0.9719738, 0.00038354637], 'neutral')}"
      ]
     },
     "execution_count": 65,
     "metadata": {},
     "output_type": "execute_result"
    }
   ],
   "source": [
    "infer_all_models('I am going to cinema', 'I have a cinema ticket')"
   ]
  },
  {
   "cell_type": "code",
   "execution_count": 66,
   "id": "c15409c8-731a-4e5f-882f-622bc2a322b9",
   "metadata": {},
   "outputs": [
    {
     "data": {
      "text/plain": [
       "{'word_mean': ([0.0042049983, 0.9486124, 0.047182575], 'neutral'),\n",
       " 'lstm': ([0.1866317, 0.7707157, 0.042652562], 'neutral'),\n",
       " 'bilstm': ([0.027998252, 0.96288687, 0.009114873], 'neutral'),\n",
       " 'bilstm_max': ([0.01825204, 0.9810357, 0.0007122529], 'neutral')}"
      ]
     },
     "execution_count": 66,
     "metadata": {},
     "output_type": "execute_result"
    }
   ],
   "source": [
    "infer_all_models('I am going to museum', 'I have a museum ticket')"
   ]
  },
  {
   "cell_type": "code",
   "execution_count": 63,
   "id": "7c07fe39-ba6c-4ce6-8cda-5f21c5716ba6",
   "metadata": {},
   "outputs": [
    {
     "data": {
      "text/plain": [
       "True"
      ]
     },
     "execution_count": 63,
     "metadata": {},
     "output_type": "execute_result"
    }
   ],
   "source": [
    "'cinema' in word2id"
   ]
  },
  {
   "cell_type": "markdown",
   "id": "19c8f4db-6f40-4393-9563-e3a6a0e4339b",
   "metadata": {},
   "source": [
    "# 4. Calculate Result Metrics"
   ]
  },
  {
   "cell_type": "code",
   "execution_count": 4,
   "id": "565c9f77-ad56-4815-b460-dd53cc854909",
   "metadata": {},
   "outputs": [],
   "source": [
    "import numpy as np\n",
    "\n",
    "def macro(results):\n",
    "    return np.mean([d['devacc'] for d in transfer_results.values()])\n",
    "\n",
    "def micro(results):\n",
    "    sum_all_dev = np.sum([d['ndev'] for d in transfer_results.values()])\n",
    "    return np.sum([(d['devacc'] * d['ndev']) for d in transfer_results.values()]) / sum_all_dev"
   ]
  },
  {
   "cell_type": "markdown",
   "id": "be73d445-e845-4575-87e7-06c870d5b36a",
   "metadata": {},
   "source": [
    "### 1. WordMean"
   ]
  },
  {
   "cell_type": "code",
   "execution_count": 5,
   "id": "3b11e8c9-1a46-492a-8563-178ba7e68c69",
   "metadata": {},
   "outputs": [],
   "source": [
    "transfer_results = {'MR': {'devacc': 75.26, 'acc': 75.31, 'ndev': 10662, 'ntest': 10662},\n",
    " 'CR': {'devacc': 81.56, 'acc': 81.43, 'ndev': 3775, 'ntest': 3775},\n",
    " 'SUBJ': {'devacc': 90.39, 'acc': 90.71, 'ndev': 10000, 'ntest': 10000},\n",
    " 'MPQA': {'devacc': 85.43, 'acc': 85.61, 'ndev': 10606, 'ntest': 10606},\n",
    " 'SST2': {'devacc': 78.56, 'acc': 79.35, 'ndev': 872, 'ntest': 1821},\n",
    " 'TREC': {'devacc': 75.92, 'acc': 77.2, 'ndev': 5452, 'ntest': 500},\n",
    " 'MRPC': {'devacc': 73.48, 'acc': 74.32, 'f1': 82.26, 'ndev': 4076, 'ntest': 1725}, 'SICKEntailment': {'devacc': 84.8, 'acc': 85.2, 'ndev': 500, 'ntest': 4927}}\n",
    "\n",
    "assert len(transfer_results) == 8"
   ]
  },
  {
   "cell_type": "code",
   "execution_count": 6,
   "id": "f2803f4d-c1a0-46a5-be30-bf3d95639bc1",
   "metadata": {},
   "outputs": [
    {
     "data": {
      "text/plain": [
       "(80.675, 81.50548157499512)"
      ]
     },
     "execution_count": 6,
     "metadata": {},
     "output_type": "execute_result"
    }
   ],
   "source": [
    "# BILSTM MAX\n",
    "macro(transfer_results), micro(transfer_results)"
   ]
  },
  {
   "cell_type": "code",
   "execution_count": 25,
   "id": "4c474037-e167-42c9-a17f-dd57c6fa3c24",
   "metadata": {},
   "outputs": [
    {
     "data": {
      "text/plain": [
       "(78.80375000000001, 79.52509936225323)"
      ]
     },
     "execution_count": 25,
     "metadata": {},
     "output_type": "execute_result"
    }
   ],
   "source": [
    "# BILSTM (78.80375000000001, 79.52509936225323)\n",
    "macro(transfer_results), micro(transfer_results)"
   ]
  },
  {
   "cell_type": "code",
   "execution_count": 23,
   "id": "52644556-4e8e-4e11-a924-4a0227f9cfbd",
   "metadata": {},
   "outputs": [
    {
     "data": {
      "text/plain": [
       "(76.8725, 77.39084082449992)"
      ]
     },
     "execution_count": 23,
     "metadata": {},
     "output_type": "execute_result"
    }
   ],
   "source": [
    "# LSTM (76.8725, 77.39084082449992)\n",
    "macro(transfer_results), micro(transfer_results)"
   ]
  },
  {
   "cell_type": "code",
   "execution_count": 21,
   "id": "4c6f34cb-93e0-4583-9c9d-8de37648376a",
   "metadata": {},
   "outputs": [
    {
     "data": {
      "text/plain": [
       "(78.36500000000001, 79.68296671963084)"
      ]
     },
     "execution_count": 21,
     "metadata": {},
     "output_type": "execute_result"
    }
   ],
   "source": [
    "# WordMean (78.36500000000001, 79.68296671963084)\n",
    "macro(transfer_results), micro(transfer_results)"
   ]
  }
 ],
 "metadata": {
  "kernelspec": {
   "display_name": "Python 3 (ipykernel)",
   "language": "python",
   "name": "python3"
  },
  "language_info": {
   "codemirror_mode": {
    "name": "ipython",
    "version": 3
   },
   "file_extension": ".py",
   "mimetype": "text/x-python",
   "name": "python",
   "nbconvert_exporter": "python",
   "pygments_lexer": "ipython3",
   "version": "3.11.5"
  }
 },
 "nbformat": 4,
 "nbformat_minor": 5
}
